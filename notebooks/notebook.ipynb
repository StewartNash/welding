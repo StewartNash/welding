{
 "cells": [
  {
   "cell_type": "code",
   "execution_count": null,
   "id": "db1fad1f",
   "metadata": {},
   "outputs": [],
   "source": [
    "import pandas as pd\n",
    "import numpy as np\n",
    "\n",
    "TOTAL_ROWS = 10000\n",
    "\n",
    "COLUMNS = [\n",
    "    'electrode force',\n",
    "    'electrode contact surface diameter',\n",
    "    'squeeze time',\n",
    "    'weld time',\n",
    "    'hold time',\n",
    "    'weld current',\n",
    "    'leak rate',\n",
    "    'explosive force',\n",
    "    'leaking',\n",
    "    'explosion'\n",
    "]\n",
    "\n",
    "INPUT_COLUMNS = [\n",
    "    'electrode force',\n",
    "    'electrode contact surface diameter',\n",
    "    'squeeze time',\n",
    "    'weld time',\n",
    "    'hold time',\n",
    "    'weld current'    \n",
    "]\n",
    "\n",
    "OUTPUT_COLUMNS = [\n",
    "    'leak rate',\n",
    "    'explosive force',\n",
    "    'leaking',\n",
    "    'explosion'\n",
    "]\n",
    "\n",
    "def generate_row(length):\n",
    "    return np.random.rand(length)\n",
    "\n",
    "my_dataframe = pd.Dataframe(columns=COLUMNS)\n",
    "for i in range(TOTAL_ROWS):\n",
    "    my_dataframe.loc[len(my_dataframe)] = generate_row(len(my_dataframe.columns))"
   ]
  }
 ],
 "metadata": {
  "kernelspec": {
   "display_name": "Python 3 (ipykernel)",
   "language": "python",
   "name": "python3"
  },
  "language_info": {
   "codemirror_mode": {
    "name": "ipython",
    "version": 3
   },
   "file_extension": ".py",
   "mimetype": "text/x-python",
   "name": "python",
   "nbconvert_exporter": "python",
   "pygments_lexer": "ipython3",
   "version": "3.12.3"
  }
 },
 "nbformat": 4,
 "nbformat_minor": 5
}
