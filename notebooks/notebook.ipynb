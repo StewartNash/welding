{
 "cells": [
  {
   "cell_type": "code",
   "execution_count": 1,
   "id": "1c01b67d",
   "metadata": {},
   "outputs": [
    {
     "name": "stdout",
     "output_type": "stream",
     "text": [
      "Requirement already satisfied: pandas in /home/stewart/anaconda3/envs/welding/lib/python3.13/site-packages (2.2.3)\r\n",
      "Requirement already satisfied: numpy>=1.26.0 in /home/stewart/anaconda3/envs/welding/lib/python3.13/site-packages (from pandas) (2.2.4)\r\n",
      "Requirement already satisfied: python-dateutil>=2.8.2 in /home/stewart/anaconda3/envs/welding/lib/python3.13/site-packages (from pandas) (2.9.0.post0)\r\n",
      "Requirement already satisfied: pytz>=2020.1 in /home/stewart/anaconda3/envs/welding/lib/python3.13/site-packages (from pandas) (2024.1)\r\n",
      "Requirement already satisfied: tzdata>=2022.7 in /home/stewart/anaconda3/envs/welding/lib/python3.13/site-packages (from pandas) (2023.3)\r\n",
      "Requirement already satisfied: six>=1.5 in /home/stewart/anaconda3/envs/welding/lib/python3.13/site-packages (from python-dateutil>=2.8.2->pandas) (1.16.0)\r\n"
     ]
    }
   ],
   "source": [
    "!pip3 install pandas"
   ]
  },
  {
   "cell_type": "code",
   "execution_count": null,
   "id": "ca6d2c19",
   "metadata": {},
   "outputs": [],
   "source": [
    "import pandas as pd\n",
    "import numpy as np\n",
    "from sklearn.model_selection import train_test_split"
   ]
  },
  {
   "cell_type": "code",
   "execution_count": 2,
   "id": "db1fad1f",
   "metadata": {},
   "outputs": [
    {
     "ename": "ModuleNotFoundError",
     "evalue": "No module named 'pandas'",
     "output_type": "error",
     "traceback": [
      "\u001b[0;31m---------------------------------------------------------------------------\u001b[0m",
      "\u001b[0;31mModuleNotFoundError\u001b[0m                       Traceback (most recent call last)",
      "Cell \u001b[0;32mIn[2], line 1\u001b[0m\n\u001b[0;32m----> 1\u001b[0m \u001b[38;5;28;01mimport\u001b[39;00m \u001b[38;5;21;01mpandas\u001b[39;00m \u001b[38;5;28;01mas\u001b[39;00m \u001b[38;5;21;01mpd\u001b[39;00m\n\u001b[1;32m      2\u001b[0m \u001b[38;5;28;01mimport\u001b[39;00m \u001b[38;5;21;01mnumpy\u001b[39;00m \u001b[38;5;28;01mas\u001b[39;00m \u001b[38;5;21;01mnp\u001b[39;00m\n\u001b[1;32m      4\u001b[0m TOTAL_ROWS \u001b[38;5;241m=\u001b[39m \u001b[38;5;241m10000\u001b[39m\n",
      "\u001b[0;31mModuleNotFoundError\u001b[0m: No module named 'pandas'"
     ]
    }
   ],
   "source": [
    "TOTAL_ROWS = 10000\n",
    "\n",
    "COLUMNS = [\n",
    "    'electrode force',\n",
    "    'electrode contact surface diameter',\n",
    "    'squeeze time',\n",
    "    'weld time',\n",
    "    'hold time',\n",
    "    'weld current',\n",
    "    'leak rate',\n",
    "    'explosive force',\n",
    "    'leaking',\n",
    "    'explosion'\n",
    "]\n",
    "\n",
    "INPUT_COLUMNS = [\n",
    "    'electrode force',\n",
    "    'electrode contact surface diameter',\n",
    "    'squeeze time',\n",
    "    'weld time',\n",
    "    'hold time',\n",
    "    'weld current'    \n",
    "]\n",
    "\n",
    "OUTPUT_COLUMNS = [\n",
    "    'leak rate',\n",
    "    'explosive force',\n",
    "    'leaking',\n",
    "    'explosion'\n",
    "]\n",
    "\n",
    "CATEGORICAL_LABELS = ['leaking', 'explosion']"
   ]
  },
  {
   "cell_type": "code",
   "execution_count": null,
   "id": "659abd7c",
   "metadata": {},
   "outputs": [],
   "source": [
    "def generate_coefficients(input_length, output_length):\n",
    "    mean = 0\n",
    "    stddev = 5.0\n",
    "    rows = input_length\n",
    "    columns = output_length\n",
    "    return np.random.normal(mean, stddev, size=(rows, columns))\n",
    "\n",
    "def generate_row(coefficients):\n",
    "    rows, columns = coefficients.shape\n",
    "    input_row = np.random.rand(columns)\n",
    "    output = np.matmul(coefficients, input_row)\n",
    "    output = output.tolist()\n",
    "    assert len(output) >= 4\n",
    "    output[-2] = \"leaking\" if output[-4] > 0 else \"not leaking\"\n",
    "    output[-1] = \"explosion\" if output[-3] > 0 else \"no explosion\"\n",
    "    output = input_row.tolist() + output\n",
    "    return output"
   ]
  },
  {
   "cell_type": "code",
   "execution_count": null,
   "id": "82b6941c",
   "metadata": {},
   "outputs": [],
   "source": [
    "my_dataframe = pd.DataFrame(columns=COLUMNS)\n",
    "coefficients = generate_coefficients(len(INPUT_COLUMNS), len(OUTPUT_COLUMNS))\n",
    "for i in range(TOTAL_ROWS):\n",
    "    my_dataframe.loc[len(my_dataframe)] = generate_row(coefficients)\n",
    "print(my_dataframe.head())"
   ]
  },
  {
   "cell_type": "code",
   "execution_count": null,
   "id": "77a321b7",
   "metadata": {},
   "outputs": [],
   "source": [
    "welding_train, welding_test = train_test_split(my_dataframe, test_size=0.2, random_state=42)\n",
    "welding_train_labels = welding_train[OUTPUT_COLUMNS].copy()\n",
    "welding_test_labels = welding_test[OUTPUT_COLUMNS].copy()\n",
    "welding_train = welding_train.drop(OUTPUT_COLUMNS, axis=1)\n",
    "welding_test = welding_test.drop(OUTPUT_COLUMNS, axis=1)\n",
    "welding_categorical = welding_labels[CATEGORICAL_LABELS]\n",
    "welding_labels = welding_labels.drop(CATEGORICAL_LABELS, axis=1)\n",
    "print(welding_categorical.head())"
   ]
  },
  {
   "cell_type": "code",
   "execution_count": null,
   "id": "575211e2",
   "metadata": {},
   "outputs": [],
   "source": [
    "import tensorflow as tf\n",
    "from tensorflow import keras"
   ]
  },
  {
   "cell_type": "code",
   "execution_count": null,
   "id": "8d112456",
   "metadata": {},
   "outputs": [],
   "source": [
    "INPUT_WIDTH = len(INPUT_COLUMNS)\n",
    "OUTPUT_WIDTH = len(OUTPUT_COLUMNS)\n",
    "\n",
    "model = keras.models.Sequential()\n",
    "model.add(keras.layers.InputLayer(input_shape=(INPUT_WIDTH, 1)))\n",
    "model.add(keras.layers.Dense(INPUT_WIDTH * 10, activation=\"relu\"))\n",
    "model.add(keras.layers.Dense(INPUT_WIDTH * 5, activation=\"relu\"))\n",
    "model.add(keras.layers.Dense(INPUT_WIDTH * 1, activation=\"relu\"))\n",
    "model.add(keras.layers.Dense(OUTPUT_WIDTH, activation=\"softmax\"))\n",
    "model.compile(loss=\"sparse_categorical_crossentropy\", optimizer=\"sgd\", metrics=[\"accuracy\"])\n",
    "model.fit(X_train, y_train, epochs=30, validation_data=(X_valid, y_valid))"
   ]
  }
 ],
 "metadata": {
  "kernelspec": {
   "display_name": "Python 3 (ipykernel)",
   "language": "python",
   "name": "python3"
  },
  "language_info": {
   "codemirror_mode": {
    "name": "ipython",
    "version": 3
   },
   "file_extension": ".py",
   "mimetype": "text/x-python",
   "name": "python",
   "nbconvert_exporter": "python",
   "pygments_lexer": "ipython3",
   "version": "3.12.3"
  }
 },
 "nbformat": 4,
 "nbformat_minor": 5
}
