{
  "nbformat": 4,
  "nbformat_minor": 0,
  "metadata": {
    "colab": {
      "provenance": [],
      "toc_visible": true
    },
    "kernelspec": {
      "name": "python3",
      "display_name": "Python 3"
    },
    "language_info": {
      "name": "python"
    }
  },
  "cells": [
    {
      "cell_type": "code",
      "execution_count": 2,
      "metadata": {
        "id": "NTLFgYoxjDHO"
      },
      "outputs": [],
      "source": [
        "import pandas as pd\n",
        "import numpy as np\n",
        "import matplotlib.pyplot as plt\n",
        "from sklearn.model_selection import train_test_split\n",
        "from sklearn.preprocessing import OneHotEncoder\n",
        "from sklearn.preprocessing import StandardScaler"
      ]
    },
    {
      "cell_type": "code",
      "source": [
        "TOTAL_ROWS = 10000\n",
        "\n",
        "COLUMNS = [\n",
        "    'electrode force',\n",
        "    'electrode contact surface diameter',\n",
        "    'squeeze time',\n",
        "    'weld time',\n",
        "    'hold time',\n",
        "    'weld current',\n",
        "    'leak rate',\n",
        "    'explosive force',\n",
        "    'leaking',\n",
        "    'explosion'\n",
        "]\n",
        "\n",
        "INPUT_COLUMNS = [\n",
        "    'electrode force',\n",
        "    'electrode contact surface diameter',\n",
        "    'squeeze time',\n",
        "    'weld time',\n",
        "    'hold time',\n",
        "    'weld current'\n",
        "]\n",
        "\n",
        "OUTPUT_COLUMNS = [\n",
        "    'leak rate',\n",
        "    'explosive force',\n",
        "    'leaking',\n",
        "    'explosion'\n",
        "]\n",
        "\n",
        "CATEGORICAL_LABELS = ['leaking', 'explosion']"
      ],
      "metadata": {
        "id": "oNHvSdY8jFDI"
      },
      "execution_count": 3,
      "outputs": []
    },
    {
      "cell_type": "code",
      "source": [
        "def generate_coefficients(input_length, output_length):\n",
        "    mean = 0\n",
        "    stddev = 5.0\n",
        "    rows = input_length\n",
        "    columns = output_length\n",
        "    return np.random.normal(mean, stddev, size=(rows, columns))\n",
        "\n",
        "def generate_row(coefficients):\n",
        "    rows, columns = coefficients.shape\n",
        "    input_row = np.random.rand(columns)\n",
        "    output = np.matmul(coefficients, input_row)\n",
        "    output = output.tolist()\n",
        "    assert len(output) >= 4\n",
        "    output[-2] = \"leaking\" if output[-4] > 0 else \"not leaking\"\n",
        "    output[-1] = \"explosion\" if output[-3] > 0 else \"no explosion\"\n",
        "    output = input_row.tolist() + output\n",
        "    return output\n",
        "\n",
        "def generate_sets(myset, output_columns, categorical_labels):\n",
        "    myset_labels = myset[output_columns].copy()\n",
        "    myset = myset.drop(output_columns, axis=1)\n",
        "    myset_categorical = myset_labels[categorical_labels]\n",
        "    categorical_encoder = OneHotEncoder()\n",
        "    myset_categorical = categorical_encoder.fit_transform(myset_categorical)\n",
        "    myset_categorical = myset_categorical.toarray()\n",
        "    return myset, myset_labels, myset_categorical, categorical_encoder"
      ],
      "metadata": {
        "id": "45iymD_OjVS7"
      },
      "execution_count": 4,
      "outputs": []
    },
    {
      "cell_type": "code",
      "source": [
        "my_dataframe = pd.DataFrame(columns=COLUMNS)\n",
        "coefficients = generate_coefficients(len(INPUT_COLUMNS), len(OUTPUT_COLUMNS))\n",
        "for i in range(TOTAL_ROWS):\n",
        "    my_dataframe.loc[len(my_dataframe)] = generate_row(coefficients)\n",
        "print(my_dataframe.head())"
      ],
      "metadata": {
        "colab": {
          "base_uri": "https://localhost:8080/"
        },
        "id": "Nhu-V5Dtjhcc",
        "outputId": "aaf9a38b-cac4-494a-b72a-1dc2c19885b0"
      },
      "execution_count": 5,
      "outputs": [
        {
          "output_type": "stream",
          "name": "stdout",
          "text": [
            "   electrode force  electrode contact surface diameter  squeeze time  \\\n",
            "0         0.845414                            0.333774      0.457253   \n",
            "1         0.924608                            0.378278      0.168732   \n",
            "2         0.518913                            0.094494      0.132893   \n",
            "3         0.329708                            0.704279      0.418995   \n",
            "4         0.989700                            0.933375      0.119256   \n",
            "\n",
            "   weld time  hold time  weld current  leak rate  explosive force  \\\n",
            "0   0.106281  -9.020655      0.243048  -2.831844        -4.385680   \n",
            "1   0.262312  -8.335358     -0.532591  -1.583722        -4.862011   \n",
            "2   0.756861  -5.750594      0.545010  -2.480618        -7.880316   \n",
            "3   0.997765 -10.396823     -1.252551  -1.252645        -5.859409   \n",
            "4   0.421598 -11.777516     -2.825007   0.677915        -2.963699   \n",
            "\n",
            "       leaking     explosion  \n",
            "0  not leaking  no explosion  \n",
            "1  not leaking  no explosion  \n",
            "2  not leaking  no explosion  \n",
            "3  not leaking  no explosion  \n",
            "4      leaking  no explosion  \n"
          ]
        }
      ]
    },
    {
      "cell_type": "code",
      "source": [
        "X_train, X_test = train_test_split(my_dataframe, test_size=0.2, random_state=42)\n",
        "X_train, X_validation = train_test_split(X_train)\n",
        "\n",
        "X_train_labels = X_train[OUTPUT_COLUMNS].copy()\n",
        "X_train = X_train.drop(OUTPUT_COLUMNS, axis=1)\n",
        "X_train_categorical = X_train_labels[CATEGORICAL_LABELS]\n",
        "X_train_labels = X_train_labels.drop(CATEGORICAL_LABELS, axis=1)\n",
        "train_categorical_encoder = OneHotEncoder()\n",
        "X_train_categorical = train_categorical_encoder.fit_transform(X_train_categorical)\n",
        "X_train_categorical = X_train_categorical.toarray()\n",
        "\n",
        "X_test_labels = X_test[OUTPUT_COLUMNS].copy()\n",
        "X_test = X_test.drop(OUTPUT_COLUMNS, axis=1)\n",
        "X_test_categorical = X_test_labels[CATEGORICAL_LABELS]\n",
        "X_test_labels = X_test_labels.drop(CATEGORICAL_LABELS, axis=1)\n",
        "test_categorical_encoder = OneHotEncoder()\n",
        "X_test_categorical = test_categorical_encoder.fit_transform(X_test_categorical)\n",
        "X_test_categorical = X_test_categorical.toarray()\n",
        "\n",
        "X_validation_labels = X_validation[OUTPUT_COLUMNS].copy()\n",
        "X_validation = X_validation.drop(OUTPUT_COLUMNS, axis=1)\n",
        "X_validation_categorical = X_validation_labels[CATEGORICAL_LABELS]\n",
        "X_validation_labels = X_validation_labels.drop(CATEGORICAL_LABELS, axis=1)\n",
        "validation_categorical_encoder = OneHotEncoder()\n",
        "X_validation_categorical = validation_categorical_encoder.fit_transform(X_validation_categorical)\n",
        "X_validation_categorical = X_validation_categorical.toarray()\n",
        "\n",
        "scaler = StandardScaler()\n",
        "X_train = scaler.fit_transform(X_train)\n",
        "X_test = scaler.transform(X_test)\n",
        "X_validation = scaler.transform(X_validation)\n",
        "\n",
        "print(X_train_categorical[:10])\n",
        "print(train_categorical_encoder.categories_)"
      ],
      "metadata": {
        "colab": {
          "base_uri": "https://localhost:8080/"
        },
        "id": "cQnKJ1Wmjjpw",
        "outputId": "0ef8ab6e-67b0-45bf-907e-62e06e22379f"
      },
      "execution_count": 6,
      "outputs": [
        {
          "output_type": "stream",
          "name": "stdout",
          "text": [
            "[[0. 1. 0. 1.]\n",
            " [0. 1. 0. 1.]\n",
            " [0. 1. 0. 1.]\n",
            " [0. 1. 0. 1.]\n",
            " [0. 1. 0. 1.]\n",
            " [1. 0. 0. 1.]\n",
            " [1. 0. 1. 0.]\n",
            " [0. 1. 0. 1.]\n",
            " [0. 1. 0. 1.]\n",
            " [0. 1. 0. 1.]]\n",
            "[array(['leaking', 'not leaking'], dtype=object), array(['explosion', 'no explosion'], dtype=object)]\n"
          ]
        }
      ]
    },
    {
      "cell_type": "code",
      "source": [
        "y_train_regression = X_train_labels\n",
        "y_train_classification = X_train_categorical\n",
        "y_test_regression = X_test_labels\n",
        "y_test_classification = X_test_categorical\n",
        "y_validation_regression = X_validation_labels\n",
        "y_validation_classification = X_validation_categorical\n",
        "\n",
        "y_train = y_train_regression\n",
        "y_test = y_test_regression\n",
        "y_validation = y_validation_regression"
      ],
      "metadata": {
        "id": "DFfdsft6wdgc"
      },
      "execution_count": 7,
      "outputs": []
    },
    {
      "cell_type": "code",
      "source": [
        "import tensorflow as tf\n",
        "from tensorflow import keras"
      ],
      "metadata": {
        "id": "ZFoXFuPYjo52"
      },
      "execution_count": 8,
      "outputs": []
    },
    {
      "cell_type": "code",
      "source": [
        "INPUT_WIDTH = len(INPUT_COLUMNS)\n",
        "OUTPUT_WIDTH = len(OUTPUT_COLUMNS)\n",
        "numerical_output_width = y_train.shape[1]\n",
        "categorical_output_width = y_train_classification.shape[1]"
      ],
      "metadata": {
        "id": "MC66uiMZjq12"
      },
      "execution_count": 9,
      "outputs": []
    },
    {
      "cell_type": "code",
      "source": [
        "model = keras.models.Sequential()\n",
        "model.add(keras.layers.InputLayer(input_shape=(INPUT_WIDTH,)))\n",
        "model.add(keras.layers.Dense(INPUT_WIDTH * 10, activation=\"relu\"))\n",
        "model.add(keras.layers.Dense(INPUT_WIDTH * 5, activation=\"relu\"))\n",
        "model.add(keras.layers.Dense(INPUT_WIDTH * 1, activation=\"relu\"))\n",
        "#model.add(keras.layers.Dense(numerical_output_width, activation=\"softmax\"))\n",
        "model.add(keras.layers.Dense(numerical_output_width))\n",
        "#model.compile(loss=\"sparse_categorical_crossentropy\", optimizer=\"sgd\", metrics=[\"accuracy\"])\n",
        "model.compile(loss=\"mse\", optimizer=\"adam\", metrics=[\"mse\"])\n",
        "history = model.fit(X_train,\n",
        "    y_train,\n",
        "    epochs=30,\n",
        "    validation_data=(X_validation, y_validation))\n",
        "mse_test = model.evaluate(X_test, y_test)"
      ],
      "metadata": {
        "colab": {
          "base_uri": "https://localhost:8080/"
        },
        "id": "Bm4pZYpSjv8V",
        "outputId": "72147f89-6f13-4faf-bf97-a8b44fea957d"
      },
      "execution_count": 10,
      "outputs": [
        {
          "output_type": "stream",
          "name": "stderr",
          "text": [
            "/usr/local/lib/python3.11/dist-packages/keras/src/layers/core/input_layer.py:27: UserWarning: Argument `input_shape` is deprecated. Use `shape` instead.\n",
            "  warnings.warn(\n"
          ]
        },
        {
          "output_type": "stream",
          "name": "stdout",
          "text": [
            "Epoch 1/30\n",
            "\u001b[1m188/188\u001b[0m \u001b[32m━━━━━━━━━━━━━━━━━━━━\u001b[0m\u001b[37m\u001b[0m \u001b[1m3s\u001b[0m 6ms/step - loss: 10.9374 - mse: 10.9374 - val_loss: 0.2999 - val_mse: 0.2999\n",
            "Epoch 2/30\n",
            "\u001b[1m188/188\u001b[0m \u001b[32m━━━━━━━━━━━━━━━━━━━━\u001b[0m\u001b[37m\u001b[0m \u001b[1m2s\u001b[0m 3ms/step - loss: 0.2185 - mse: 0.2185 - val_loss: 0.0706 - val_mse: 0.0706\n",
            "Epoch 3/30\n",
            "\u001b[1m188/188\u001b[0m \u001b[32m━━━━━━━━━━━━━━━━━━━━\u001b[0m\u001b[37m\u001b[0m \u001b[1m1s\u001b[0m 3ms/step - loss: 0.0429 - mse: 0.0429 - val_loss: 0.0109 - val_mse: 0.0109\n",
            "Epoch 4/30\n",
            "\u001b[1m188/188\u001b[0m \u001b[32m━━━━━━━━━━━━━━━━━━━━\u001b[0m\u001b[37m\u001b[0m \u001b[1m1s\u001b[0m 3ms/step - loss: 0.0087 - mse: 0.0087 - val_loss: 0.0061 - val_mse: 0.0061\n",
            "Epoch 5/30\n",
            "\u001b[1m188/188\u001b[0m \u001b[32m━━━━━━━━━━━━━━━━━━━━\u001b[0m\u001b[37m\u001b[0m \u001b[1m1s\u001b[0m 3ms/step - loss: 0.0054 - mse: 0.0054 - val_loss: 0.0045 - val_mse: 0.0045\n",
            "Epoch 6/30\n",
            "\u001b[1m188/188\u001b[0m \u001b[32m━━━━━━━━━━━━━━━━━━━━\u001b[0m\u001b[37m\u001b[0m \u001b[1m1s\u001b[0m 3ms/step - loss: 0.0041 - mse: 0.0041 - val_loss: 0.0042 - val_mse: 0.0042\n",
            "Epoch 7/30\n",
            "\u001b[1m188/188\u001b[0m \u001b[32m━━━━━━━━━━━━━━━━━━━━\u001b[0m\u001b[37m\u001b[0m \u001b[1m1s\u001b[0m 3ms/step - loss: 0.0034 - mse: 0.0034 - val_loss: 0.0029 - val_mse: 0.0029\n",
            "Epoch 8/30\n",
            "\u001b[1m188/188\u001b[0m \u001b[32m━━━━━━━━━━━━━━━━━━━━\u001b[0m\u001b[37m\u001b[0m \u001b[1m1s\u001b[0m 3ms/step - loss: 0.0027 - mse: 0.0027 - val_loss: 0.0025 - val_mse: 0.0025\n",
            "Epoch 9/30\n",
            "\u001b[1m188/188\u001b[0m \u001b[32m━━━━━━━━━━━━━━━━━━━━\u001b[0m\u001b[37m\u001b[0m \u001b[1m1s\u001b[0m 3ms/step - loss: 0.0023 - mse: 0.0023 - val_loss: 0.0025 - val_mse: 0.0025\n",
            "Epoch 10/30\n",
            "\u001b[1m188/188\u001b[0m \u001b[32m━━━━━━━━━━━━━━━━━━━━\u001b[0m\u001b[37m\u001b[0m \u001b[1m1s\u001b[0m 3ms/step - loss: 0.0019 - mse: 0.0019 - val_loss: 0.0017 - val_mse: 0.0017\n",
            "Epoch 11/30\n",
            "\u001b[1m188/188\u001b[0m \u001b[32m━━━━━━━━━━━━━━━━━━━━\u001b[0m\u001b[37m\u001b[0m \u001b[1m1s\u001b[0m 3ms/step - loss: 0.0016 - mse: 0.0016 - val_loss: 0.0017 - val_mse: 0.0017\n",
            "Epoch 12/30\n",
            "\u001b[1m188/188\u001b[0m \u001b[32m━━━━━━━━━━━━━━━━━━━━\u001b[0m\u001b[37m\u001b[0m \u001b[1m1s\u001b[0m 3ms/step - loss: 0.0014 - mse: 0.0014 - val_loss: 0.0015 - val_mse: 0.0015\n",
            "Epoch 13/30\n",
            "\u001b[1m188/188\u001b[0m \u001b[32m━━━━━━━━━━━━━━━━━━━━\u001b[0m\u001b[37m\u001b[0m \u001b[1m1s\u001b[0m 3ms/step - loss: 0.0012 - mse: 0.0012 - val_loss: 0.0014 - val_mse: 0.0014\n",
            "Epoch 14/30\n",
            "\u001b[1m188/188\u001b[0m \u001b[32m━━━━━━━━━━━━━━━━━━━━\u001b[0m\u001b[37m\u001b[0m \u001b[1m1s\u001b[0m 3ms/step - loss: 0.0011 - mse: 0.0011 - val_loss: 9.5837e-04 - val_mse: 9.5837e-04\n",
            "Epoch 15/30\n",
            "\u001b[1m188/188\u001b[0m \u001b[32m━━━━━━━━━━━━━━━━━━━━\u001b[0m\u001b[37m\u001b[0m \u001b[1m1s\u001b[0m 3ms/step - loss: 9.9986e-04 - mse: 9.9986e-04 - val_loss: 9.7077e-04 - val_mse: 9.7077e-04\n",
            "Epoch 16/30\n",
            "\u001b[1m188/188\u001b[0m \u001b[32m━━━━━━━━━━━━━━━━━━━━\u001b[0m\u001b[37m\u001b[0m \u001b[1m1s\u001b[0m 3ms/step - loss: 8.5191e-04 - mse: 8.5191e-04 - val_loss: 7.7315e-04 - val_mse: 7.7315e-04\n",
            "Epoch 17/30\n",
            "\u001b[1m188/188\u001b[0m \u001b[32m━━━━━━━━━━━━━━━━━━━━\u001b[0m\u001b[37m\u001b[0m \u001b[1m1s\u001b[0m 5ms/step - loss: 7.3607e-04 - mse: 7.3607e-04 - val_loss: 6.7492e-04 - val_mse: 6.7492e-04\n",
            "Epoch 18/30\n",
            "\u001b[1m188/188\u001b[0m \u001b[32m━━━━━━━━━━━━━━━━━━━━\u001b[0m\u001b[37m\u001b[0m \u001b[1m1s\u001b[0m 5ms/step - loss: 6.5053e-04 - mse: 6.5053e-04 - val_loss: 8.3017e-04 - val_mse: 8.3017e-04\n",
            "Epoch 19/30\n",
            "\u001b[1m188/188\u001b[0m \u001b[32m━━━━━━━━━━━━━━━━━━━━\u001b[0m\u001b[37m\u001b[0m \u001b[1m1s\u001b[0m 3ms/step - loss: 6.1802e-04 - mse: 6.1802e-04 - val_loss: 6.7623e-04 - val_mse: 6.7623e-04\n",
            "Epoch 20/30\n",
            "\u001b[1m188/188\u001b[0m \u001b[32m━━━━━━━━━━━━━━━━━━━━\u001b[0m\u001b[37m\u001b[0m \u001b[1m1s\u001b[0m 3ms/step - loss: 5.2790e-04 - mse: 5.2790e-04 - val_loss: 5.6852e-04 - val_mse: 5.6852e-04\n",
            "Epoch 21/30\n",
            "\u001b[1m188/188\u001b[0m \u001b[32m━━━━━━━━━━━━━━━━━━━━\u001b[0m\u001b[37m\u001b[0m \u001b[1m1s\u001b[0m 3ms/step - loss: 5.2972e-04 - mse: 5.2972e-04 - val_loss: 4.8922e-04 - val_mse: 4.8922e-04\n",
            "Epoch 22/30\n",
            "\u001b[1m188/188\u001b[0m \u001b[32m━━━━━━━━━━━━━━━━━━━━\u001b[0m\u001b[37m\u001b[0m \u001b[1m1s\u001b[0m 3ms/step - loss: 4.1900e-04 - mse: 4.1900e-04 - val_loss: 7.2907e-04 - val_mse: 7.2907e-04\n",
            "Epoch 23/30\n",
            "\u001b[1m188/188\u001b[0m \u001b[32m━━━━━━━━━━━━━━━━━━━━\u001b[0m\u001b[37m\u001b[0m \u001b[1m1s\u001b[0m 3ms/step - loss: 5.5367e-04 - mse: 5.5367e-04 - val_loss: 4.5524e-04 - val_mse: 4.5524e-04\n",
            "Epoch 24/30\n",
            "\u001b[1m188/188\u001b[0m \u001b[32m━━━━━━━━━━━━━━━━━━━━\u001b[0m\u001b[37m\u001b[0m \u001b[1m1s\u001b[0m 3ms/step - loss: 4.2272e-04 - mse: 4.2272e-04 - val_loss: 4.6133e-04 - val_mse: 4.6133e-04\n",
            "Epoch 25/30\n",
            "\u001b[1m188/188\u001b[0m \u001b[32m━━━━━━━━━━━━━━━━━━━━\u001b[0m\u001b[37m\u001b[0m \u001b[1m1s\u001b[0m 3ms/step - loss: 4.1918e-04 - mse: 4.1918e-04 - val_loss: 5.0116e-04 - val_mse: 5.0116e-04\n",
            "Epoch 26/30\n",
            "\u001b[1m188/188\u001b[0m \u001b[32m━━━━━━━━━━━━━━━━━━━━\u001b[0m\u001b[37m\u001b[0m \u001b[1m1s\u001b[0m 3ms/step - loss: 4.1490e-04 - mse: 4.1490e-04 - val_loss: 5.1032e-04 - val_mse: 5.1032e-04\n",
            "Epoch 27/30\n",
            "\u001b[1m188/188\u001b[0m \u001b[32m━━━━━━━━━━━━━━━━━━━━\u001b[0m\u001b[37m\u001b[0m \u001b[1m1s\u001b[0m 3ms/step - loss: 4.1430e-04 - mse: 4.1430e-04 - val_loss: 2.9394e-04 - val_mse: 2.9394e-04\n",
            "Epoch 28/30\n",
            "\u001b[1m188/188\u001b[0m \u001b[32m━━━━━━━━━━━━━━━━━━━━\u001b[0m\u001b[37m\u001b[0m \u001b[1m1s\u001b[0m 3ms/step - loss: 3.6065e-04 - mse: 3.6065e-04 - val_loss: 3.2041e-04 - val_mse: 3.2041e-04\n",
            "Epoch 29/30\n",
            "\u001b[1m188/188\u001b[0m \u001b[32m━━━━━━━━━━━━━━━━━━━━\u001b[0m\u001b[37m\u001b[0m \u001b[1m1s\u001b[0m 3ms/step - loss: 3.4410e-04 - mse: 3.4410e-04 - val_loss: 2.1868e-04 - val_mse: 2.1868e-04\n",
            "Epoch 30/30\n",
            "\u001b[1m188/188\u001b[0m \u001b[32m━━━━━━━━━━━━━━━━━━━━\u001b[0m\u001b[37m\u001b[0m \u001b[1m1s\u001b[0m 3ms/step - loss: 2.8560e-04 - mse: 2.8560e-04 - val_loss: 3.0528e-04 - val_mse: 3.0528e-04\n",
            "\u001b[1m63/63\u001b[0m \u001b[32m━━━━━━━━━━━━━━━━━━━━\u001b[0m\u001b[37m\u001b[0m \u001b[1m0s\u001b[0m 2ms/step - loss: 2.5901e-04 - mse: 2.5901e-04\n"
          ]
        }
      ]
    },
    {
      "cell_type": "code",
      "source": [
        "pd.DataFrame(history.history).plot(figsize=(8, 5))\n",
        "plt.grid(True)\n",
        "plt.gca().set_ylim(0, 1)\n",
        "plt.show()"
      ],
      "metadata": {
        "colab": {
          "base_uri": "https://localhost:8080/",
          "height": 451
        },
        "id": "a_lhOlBodc4_",
        "outputId": "9bf70e06-c634-44b2-a7b3-cf0c2f87fba7"
      },
      "execution_count": 11,
      "outputs": [
        {
          "output_type": "display_data",
          "data": {
            "text/plain": [
              "<Figure size 800x500 with 1 Axes>"
            ],
            "image/png": "[encoded data removed]"
          },
          "metadata": {}
        }
      ]
    },
    {
      "cell_type": "code",
      "source": [
        "y_prediction = model.predict(X_test)\n",
        "print(y_prediction[:10])\n",
        "\n",
        "model_filename = \"my_model.h5\"\n",
        "print(\"Saving \" + model_filename)\n",
        "#model.save(model_filename)"
      ],
      "metadata": {
        "colab": {
          "base_uri": "https://localhost:8080/"
        },
        "id": "ih4CcA9gw4Tv",
        "outputId": "9ed35fb0-e53b-4f00-c5e3-a1efa5482cfc"
      },
      "execution_count": 12,
      "outputs": [
        {
          "output_type": "stream",
          "name": "stdout",
          "text": [
            "\u001b[1m63/63\u001b[0m \u001b[32m━━━━━━━━━━━━━━━━━━━━\u001b[0m\u001b[37m\u001b[0m \u001b[1m0s\u001b[0m 2ms/step\n",
            "[[-1.7279025  -5.720717  ]\n",
            " [-0.60120785 -0.23924595]\n",
            " [-2.2790518  -4.3820143 ]\n",
            " [-1.8675113  -5.5146804 ]\n",
            " [-1.2214359  -5.1327276 ]\n",
            " [-2.1415796  -5.3059187 ]\n",
            " [-1.7628696  -3.0466843 ]\n",
            " [ 2.1405315   1.7555257 ]\n",
            " [-1.765573   -4.9130616 ]\n",
            " [-4.576766   -5.129072  ]]\n",
            "Saving my_model.h5\n"
          ]
        }
      ]
    },
    {
      "cell_type": "code",
      "source": [
        "x = X_test[:1]\n",
        "print(x)\n",
        "print(model.predict(x))"
      ],
      "metadata": {
        "id": "C1ANlxJMw9oB",
        "colab": {
          "base_uri": "https://localhost:8080/"
        },
        "outputId": "5e2d1e6e-8afa-43b6-eb2d-aea8c0619cca"
      },
      "execution_count": 37,
      "outputs": [
        {
          "output_type": "stream",
          "name": "stdout",
          "text": [
            "[[-1.47356503 -1.45189101 -1.19292382  0.85500674  2.06712595  0.55251785]]\n",
            "\u001b[1m1/1\u001b[0m \u001b[32m━━━━━━━━━━━━━━━━━━━━\u001b[0m\u001b[37m\u001b[0m \u001b[1m0s\u001b[0m 141ms/step\n",
            "[[-1.7279022 -5.7207155]]\n"
          ]
        }
      ]
    },
    {
      "cell_type": "code",
      "source": [
        "def f(x):\n",
        "    return model.predict(x)\n",
        "\n",
        "def newton_step(x):\n",
        "    with tf.GradientTape() as tape:\n",
        "        tape.watch(x)\n",
        "        y = model(x)  # y: (1, output_dim)\n",
        "    J = tape.jacobian(y, x)  # J: (1, output_dim, 1, input_dim)\n",
        "\n",
        "    # Remove batch dimensions\n",
        "    J = tf.squeeze(J, axis=[0, 2])  # Now J: (output_dim, input_dim)\n",
        "    y = tf.squeeze(y, axis=0)       # y: (output_dim,)\n",
        "\n",
        "    JT = tf.transpose(J)            # JT: (input_dim, output_dim)\n",
        "    JTJ = tf.matmul(JT, J)          # JTJ: (input_dim, input_dim)\n",
        "    JTf = tf.matmul(JT, tf.expand_dims(y, axis=1))  # JTf: (input_dim, 1)\n",
        "\n",
        "    delta = tf.linalg.solve(JTJ, JTf)  # delta: (input_dim, 1)\n",
        "    return x - tf.transpose(delta)     # Make sure delta is (1, input_dim)\n",
        "\n",
        "def gauss_newton(x, number_iterations = 20):\n",
        "    x = tf.Variable(x, dtype=tf.float32)\n",
        "    for i in range(number_iterations):\n",
        "        fx = f(x)\n",
        "        loss = tf.reduce_sum(fx**2)\n",
        "        print(f\"Step {i}, x = {x.numpy()}, loss = {loss.numpy():.6f}\")\n",
        "        x.assign(newton_step(x))\n",
        "\n",
        "    return x.numpy"
      ],
      "metadata": {
        "id": "0uGGf70OxBct",
        "colab": {
          "base_uri": "https://localhost:8080/"
        },
        "outputId": "75aa7954-eea1-4f57-9f1e-0503f7d16a9d"
      },
      "execution_count": 43,
      "outputs": [
        {
          "output_type": "stream",
          "name": "stdout",
          "text": [
            "\u001b[1m1/1\u001b[0m \u001b[32m━━━━━━━━━━━━━━━━━━━━\u001b[0m\u001b[37m\u001b[0m \u001b[1m0s\u001b[0m 36ms/step\n",
            "Step 0, x = [[-1.473565   -1.4518911  -1.1929238   0.85500675  2.067126    0.55251783]], loss = 35.712231\n",
            "\u001b[1m1/1\u001b[0m \u001b[32m━━━━━━━━━━━━━━━━━━━━\u001b[0m\u001b[37m\u001b[0m \u001b[1m0s\u001b[0m 35ms/step\n",
            "Step 1, x = [[10.519119  -4.656021  -4.0653934 -8.897524  38.054985  10.772407 ]], loss = 468.076416\n",
            "\u001b[1m1/1\u001b[0m \u001b[32m━━━━━━━━━━━━━━━━━━━━\u001b[0m\u001b[37m\u001b[0m \u001b[1m0s\u001b[0m 35ms/step\n",
            "Step 2, x = [[ -13.980377   -6.005877  -90.6789    126.78233  -398.85248    18.0744  ]], loss = 131881.593750\n",
            "\u001b[1m1/1\u001b[0m \u001b[32m━━━━━━━━━━━━━━━━━━━━\u001b[0m\u001b[37m\u001b[0m \u001b[1m0s\u001b[0m 48ms/step\n",
            "Step 3, x = [[ -1.3834801 653.413      14.048355  266.4187    -73.0343    436.98352  ]], loss = 7761.301758\n",
            "\u001b[1m1/1\u001b[0m \u001b[32m━━━━━━━━━━━━━━━━━━━━\u001b[0m\u001b[37m\u001b[0m \u001b[1m0s\u001b[0m 36ms/step\n",
            "Step 4, x = [[ -23.13591   647.3643     49.932747  220.54587  -161.82043   453.261   ]], loss = 14.029476\n",
            "\u001b[1m1/1\u001b[0m \u001b[32m━━━━━━━━━━━━━━━━━━━━\u001b[0m\u001b[37m\u001b[0m \u001b[1m0s\u001b[0m 36ms/step\n",
            "Step 5, x = [[ -24.488163  647.27606    46.861317  220.37444  -164.04901   452.88956 ]], loss = 0.000000\n",
            "\u001b[1m1/1\u001b[0m \u001b[32m━━━━━━━━━━━━━━━━━━━━\u001b[0m\u001b[37m\u001b[0m \u001b[1m0s\u001b[0m 38ms/step\n",
            "Step 6, x = [[ -24.488197  647.2761     46.86126   220.37442  -164.04913   452.88968 ]], loss = 0.000000\n",
            "\u001b[1m1/1\u001b[0m \u001b[32m━━━━━━━━━━━━━━━━━━━━\u001b[0m\u001b[37m\u001b[0m \u001b[1m0s\u001b[0m 38ms/step\n",
            "Step 7, x = [[ -24.488182  647.2761     46.861233  220.37442  -164.04932   452.88974 ]], loss = 0.000000\n",
            "\u001b[1m1/1\u001b[0m \u001b[32m━━━━━━━━━━━━━━━━━━━━\u001b[0m\u001b[37m\u001b[0m \u001b[1m0s\u001b[0m 35ms/step\n",
            "Step 8, x = [[ -24.488241  647.2762     46.86106   220.37447  -164.04915   452.88998 ]], loss = 0.000000\n",
            "\u001b[1m1/1\u001b[0m \u001b[32m━━━━━━━━━━━━━━━━━━━━\u001b[0m\u001b[37m\u001b[0m \u001b[1m0s\u001b[0m 35ms/step\n",
            "Step 9, x = [[ -24.48824   647.2762     46.861073  220.37447  -164.04912   452.88998 ]], loss = 0.000000\n",
            "\u001b[1m1/1\u001b[0m \u001b[32m━━━━━━━━━━━━━━━━━━━━\u001b[0m\u001b[37m\u001b[0m \u001b[1m0s\u001b[0m 36ms/step\n",
            "Step 10, x = [[ -24.48819   647.2762     46.861263  220.37444  -164.049     452.8899  ]], loss = 0.000000\n",
            "\u001b[1m1/1\u001b[0m \u001b[32m━━━━━━━━━━━━━━━━━━━━\u001b[0m\u001b[37m\u001b[0m \u001b[1m0s\u001b[0m 58ms/step\n",
            "Step 11, x = [[ -24.48824  647.27625   46.86127  220.37445 -164.04884  452.8899 ]], loss = 0.000000\n",
            "\u001b[1m1/1\u001b[0m \u001b[32m━━━━━━━━━━━━━━━━━━━━\u001b[0m\u001b[37m\u001b[0m \u001b[1m0s\u001b[0m 52ms/step\n",
            "Step 12, x = [[ -24.488241  647.27625    46.86127   220.37445  -164.04884   452.88995 ]], loss = 0.000000\n",
            "\u001b[1m1/1\u001b[0m \u001b[32m━━━━━━━━━━━━━━━━━━━━\u001b[0m\u001b[37m\u001b[0m \u001b[1m0s\u001b[0m 54ms/step\n",
            "Step 13, x = [[ -24.48826  647.27625   46.86126  220.37444 -164.04887  452.89005]], loss = 0.000000\n",
            "\u001b[1m1/1\u001b[0m \u001b[32m━━━━━━━━━━━━━━━━━━━━\u001b[0m\u001b[37m\u001b[0m \u001b[1m0s\u001b[0m 51ms/step\n",
            "Step 14, x = [[ -24.4882    647.2762     46.861546  220.37444  -164.0483    452.88962 ]], loss = 0.000000\n",
            "\u001b[1m1/1\u001b[0m \u001b[32m━━━━━━━━━━━━━━━━━━━━\u001b[0m\u001b[37m\u001b[0m \u001b[1m0s\u001b[0m 58ms/step\n",
            "Step 15, x = [[ -24.48814  647.27625   46.86148  220.37448 -164.04843  452.88974]], loss = 0.000000\n",
            "\u001b[1m1/1\u001b[0m \u001b[32m━━━━━━━━━━━━━━━━━━━━\u001b[0m\u001b[37m\u001b[0m \u001b[1m0s\u001b[0m 59ms/step\n",
            "Step 16, x = [[ -24.488268  647.2763     46.861282  220.3745   -164.04861   452.89    ]], loss = 0.000000\n",
            "\u001b[1m1/1\u001b[0m \u001b[32m━━━━━━━━━━━━━━━━━━━━\u001b[0m\u001b[37m\u001b[0m \u001b[1m0s\u001b[0m 53ms/step\n",
            "Step 17, x = [[ -24.48828   647.2763     46.861305  220.37451  -164.04851   452.88995 ]], loss = 0.000000\n",
            "\u001b[1m1/1\u001b[0m \u001b[32m━━━━━━━━━━━━━━━━━━━━\u001b[0m\u001b[37m\u001b[0m \u001b[1m0s\u001b[0m 40ms/step\n",
            "Step 18, x = [[ -24.488308  647.2763     46.861275  220.3745   -164.04857   452.88998 ]], loss = 0.000000\n",
            "\u001b[1m1/1\u001b[0m \u001b[32m━━━━━━━━━━━━━━━━━━━━\u001b[0m\u001b[37m\u001b[0m \u001b[1m0s\u001b[0m 36ms/step\n",
            "Step 19, x = [[ -24.488234  647.27625    46.861423  220.37447  -164.04854   452.88983 ]], loss = 0.000000\n"
          ]
        }
      ]
    },
    {
      "cell_type": "code",
      "source": [
        "x = gauss_newton(X_test[:1])"
      ],
      "metadata": {
        "colab": {
          "base_uri": "https://localhost:8080/"
        },
        "id": "C-CkHoHUctvC",
        "outputId": "a2a703db-1e42-4e3c-fb04-9440267989f1"
      },
      "execution_count": 44,
      "outputs": [
        {
          "output_type": "stream",
          "name": "stdout",
          "text": [
            "\u001b[1m1/1\u001b[0m \u001b[32m━━━━━━━━━━━━━━━━━━━━\u001b[0m\u001b[37m\u001b[0m \u001b[1m0s\u001b[0m 93ms/step\n",
            "Step 0, x = [[-1.473565   -1.4518911  -1.1929238   0.85500675  2.067126    0.55251783]], loss = 35.712231\n",
            "\u001b[1m1/1\u001b[0m \u001b[32m━━━━━━━━━━━━━━━━━━━━\u001b[0m\u001b[37m\u001b[0m \u001b[1m0s\u001b[0m 47ms/step\n",
            "Step 1, x = [[10.519119  -4.656021  -4.0653934 -8.897524  38.054985  10.772407 ]], loss = 468.076416\n",
            "\u001b[1m1/1\u001b[0m \u001b[32m━━━━━━━━━━━━━━━━━━━━\u001b[0m\u001b[37m\u001b[0m \u001b[1m0s\u001b[0m 53ms/step\n",
            "Step 2, x = [[ -13.980377   -6.005877  -90.6789    126.78233  -398.85248    18.0744  ]], loss = 131881.593750\n",
            "\u001b[1m1/1\u001b[0m \u001b[32m━━━━━━━━━━━━━━━━━━━━\u001b[0m\u001b[37m\u001b[0m \u001b[1m0s\u001b[0m 54ms/step\n",
            "Step 3, x = [[ -1.3834801 653.413      14.048355  266.4187    -73.0343    436.98352  ]], loss = 7761.301758\n",
            "\u001b[1m1/1\u001b[0m \u001b[32m━━━━━━━━━━━━━━━━━━━━\u001b[0m\u001b[37m\u001b[0m \u001b[1m0s\u001b[0m 55ms/step\n",
            "Step 4, x = [[ -23.13591   647.3643     49.932747  220.54587  -161.82043   453.261   ]], loss = 14.029476\n",
            "\u001b[1m1/1\u001b[0m \u001b[32m━━━━━━━━━━━━━━━━━━━━\u001b[0m\u001b[37m\u001b[0m \u001b[1m0s\u001b[0m 35ms/step\n",
            "Step 5, x = [[ -24.488163  647.27606    46.861317  220.37444  -164.04901   452.88956 ]], loss = 0.000000\n",
            "\u001b[1m1/1\u001b[0m \u001b[32m━━━━━━━━━━━━━━━━━━━━\u001b[0m\u001b[37m\u001b[0m \u001b[1m0s\u001b[0m 36ms/step\n",
            "Step 6, x = [[ -24.488197  647.2761     46.86126   220.37442  -164.04913   452.88968 ]], loss = 0.000000\n",
            "\u001b[1m1/1\u001b[0m \u001b[32m━━━━━━━━━━━━━━━━━━━━\u001b[0m\u001b[37m\u001b[0m \u001b[1m0s\u001b[0m 37ms/step\n",
            "Step 7, x = [[ -24.488182  647.2761     46.861233  220.37442  -164.04932   452.88974 ]], loss = 0.000000\n",
            "\u001b[1m1/1\u001b[0m \u001b[32m━━━━━━━━━━━━━━━━━━━━\u001b[0m\u001b[37m\u001b[0m \u001b[1m0s\u001b[0m 37ms/step\n",
            "Step 8, x = [[ -24.488241  647.2762     46.86106   220.37447  -164.04915   452.88998 ]], loss = 0.000000\n",
            "\u001b[1m1/1\u001b[0m \u001b[32m━━━━━━━━━━━━━━━━━━━━\u001b[0m\u001b[37m\u001b[0m \u001b[1m0s\u001b[0m 36ms/step\n",
            "Step 9, x = [[ -24.48824   647.2762     46.861073  220.37447  -164.04912   452.88998 ]], loss = 0.000000\n",
            "\u001b[1m1/1\u001b[0m \u001b[32m━━━━━━━━━━━━━━━━━━━━\u001b[0m\u001b[37m\u001b[0m \u001b[1m0s\u001b[0m 39ms/step\n",
            "Step 10, x = [[ -24.48819   647.2762     46.861263  220.37444  -164.049     452.8899  ]], loss = 0.000000\n",
            "\u001b[1m1/1\u001b[0m \u001b[32m━━━━━━━━━━━━━━━━━━━━\u001b[0m\u001b[37m\u001b[0m \u001b[1m0s\u001b[0m 36ms/step\n",
            "Step 11, x = [[ -24.48824  647.27625   46.86127  220.37445 -164.04884  452.8899 ]], loss = 0.000000\n",
            "\u001b[1m1/1\u001b[0m \u001b[32m━━━━━━━━━━━━━━━━━━━━\u001b[0m\u001b[37m\u001b[0m \u001b[1m0s\u001b[0m 37ms/step\n",
            "Step 12, x = [[ -24.488241  647.27625    46.86127   220.37445  -164.04884   452.88995 ]], loss = 0.000000\n",
            "\u001b[1m1/1\u001b[0m \u001b[32m━━━━━━━━━━━━━━━━━━━━\u001b[0m\u001b[37m\u001b[0m \u001b[1m0s\u001b[0m 34ms/step\n",
            "Step 13, x = [[ -24.48826  647.27625   46.86126  220.37444 -164.04887  452.89005]], loss = 0.000000\n",
            "\u001b[1m1/1\u001b[0m \u001b[32m━━━━━━━━━━━━━━━━━━━━\u001b[0m\u001b[37m\u001b[0m \u001b[1m0s\u001b[0m 37ms/step\n",
            "Step 14, x = [[ -24.4882    647.2762     46.861546  220.37444  -164.0483    452.88962 ]], loss = 0.000000\n",
            "\u001b[1m1/1\u001b[0m \u001b[32m━━━━━━━━━━━━━━━━━━━━\u001b[0m\u001b[37m\u001b[0m \u001b[1m0s\u001b[0m 38ms/step\n",
            "Step 15, x = [[ -24.48814  647.27625   46.86148  220.37448 -164.04843  452.88974]], loss = 0.000000\n",
            "\u001b[1m1/1\u001b[0m \u001b[32m━━━━━━━━━━━━━━━━━━━━\u001b[0m\u001b[37m\u001b[0m \u001b[1m0s\u001b[0m 36ms/step\n",
            "Step 16, x = [[ -24.488268  647.2763     46.861282  220.3745   -164.04861   452.89    ]], loss = 0.000000\n",
            "\u001b[1m1/1\u001b[0m \u001b[32m━━━━━━━━━━━━━━━━━━━━\u001b[0m\u001b[37m\u001b[0m \u001b[1m0s\u001b[0m 36ms/step\n",
            "Step 17, x = [[ -24.48828   647.2763     46.861305  220.37451  -164.04851   452.88995 ]], loss = 0.000000\n",
            "\u001b[1m1/1\u001b[0m \u001b[32m━━━━━━━━━━━━━━━━━━━━\u001b[0m\u001b[37m\u001b[0m \u001b[1m0s\u001b[0m 38ms/step\n",
            "Step 18, x = [[ -24.488308  647.2763     46.861275  220.3745   -164.04857   452.88998 ]], loss = 0.000000\n",
            "\u001b[1m1/1\u001b[0m \u001b[32m━━━━━━━━━━━━━━━━━━━━\u001b[0m\u001b[37m\u001b[0m \u001b[1m0s\u001b[0m 36ms/step\n",
            "Step 19, x = [[ -24.488234  647.27625    46.861423  220.37447  -164.04854   452.88983 ]], loss = 0.000000\n"
          ]
        }
      ]
    }
  ]
}