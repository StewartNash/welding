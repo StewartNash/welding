{
  "nbformat": 4,
  "nbformat_minor": 0,
  "metadata": {
    "colab": {
      "provenance": []
    },
    "kernelspec": {
      "name": "python3",
      "display_name": "Python 3"
    },
    "language_info": {
      "name": "python"
    }
  },
  "cells": [
    {
      "cell_type": "code",
      "execution_count": null,
      "metadata": {
        "id": "NTLFgYoxjDHO"
      },
      "outputs": [],
      "source": [
        "import pandas as pd\n",
        "import numpy as np\n",
        "import matplotlib.pyplot as plt\n",
        "from sklearn.model_selection import train_test_split\n",
        "from sklearn.preprocessing import OneHotEncoder\n",
        "from sklearn.preprocessing import StandardScaler"
      ]
    },
    {
      "cell_type": "code",
      "source": [
        "TOTAL_ROWS = 10000\n",
        "\n",
        "COLUMNS = [\n",
        "    'electrode force',\n",
        "    'electrode contact surface diameter',\n",
        "    'squeeze time',\n",
        "    'weld time',\n",
        "    'hold time',\n",
        "    'weld current',\n",
        "    'leak rate',\n",
        "    'explosive force',\n",
        "    'leaking',\n",
        "    'explosion'\n",
        "]\n",
        "\n",
        "INPUT_COLUMNS = [\n",
        "    'electrode force',\n",
        "    'electrode contact surface diameter',\n",
        "    'squeeze time',\n",
        "    'weld time',\n",
        "    'hold time',\n",
        "    'weld current'\n",
        "]\n",
        "\n",
        "OUTPUT_COLUMNS = [\n",
        "    'leak rate',\n",
        "    'explosive force',\n",
        "    'leaking',\n",
        "    'explosion'\n",
        "]\n",
        "\n",
        "CATEGORICAL_LABELS = ['leaking', 'explosion']"
      ],
      "metadata": {
        "id": "oNHvSdY8jFDI"
      },
      "execution_count": null,
      "outputs": []
    },
    {
      "cell_type": "code",
      "source": [
        "def generate_coefficients(input_length, output_length):\n",
        "    mean = 0\n",
        "    stddev = 5.0\n",
        "    rows = input_length\n",
        "    columns = output_length\n",
        "    return np.random.normal(mean, stddev, size=(rows, columns))\n",
        "\n",
        "def generate_row(coefficients):\n",
        "    rows, columns = coefficients.shape\n",
        "    input_row = np.random.rand(columns)\n",
        "    output = np.matmul(coefficients, input_row)\n",
        "    output = output.tolist()\n",
        "    assert len(output) >= 4\n",
        "    output[-2] = \"leaking\" if output[-4] > 0 else \"not leaking\"\n",
        "    output[-1] = \"explosion\" if output[-3] > 0 else \"no explosion\"\n",
        "    output = input_row.tolist() + output\n",
        "    return output\n",
        "\n",
        "def generate_sets(myset, output_columns, categorical_labels):\n",
        "    myset_labels = myset[output_columns].copy()\n",
        "    myset = myset.drop(output_columns, axis=1)\n",
        "    myset_categorical = myset_labels[categorical_labels]\n",
        "    categorical_encoder = OneHotEncoder()\n",
        "    myset_categorical = categorical_encoder.fit_transform(myset_categorical)\n",
        "    myset_categorical = myset_categorical.toarray()\n",
        "    return myset, myset_labels, myset_categorical, categorical_encoder"
      ],
      "metadata": {
        "id": "45iymD_OjVS7"
      },
      "execution_count": null,
      "outputs": []
    },
    {
      "cell_type": "code",
      "source": [
        "my_dataframe = pd.DataFrame(columns=COLUMNS)\n",
        "coefficients = generate_coefficients(len(INPUT_COLUMNS), len(OUTPUT_COLUMNS))\n",
        "for i in range(TOTAL_ROWS):\n",
        "    my_dataframe.loc[len(my_dataframe)] = generate_row(coefficients)\n",
        "print(my_dataframe.head())"
      ],
      "metadata": {
        "colab": {
          "base_uri": "https://localhost:8080/"
        },
        "id": "Nhu-V5Dtjhcc",
        "outputId": "227f166b-331a-4a73-a699-52bfd2ebbaa9"
      },
      "execution_count": null,
      "outputs": [
        {
          "output_type": "stream",
          "name": "stdout",
          "text": [
            "   electrode force  electrode contact surface diameter  squeeze time  \\\n",
            "0         0.609336                            0.952825      0.263042   \n",
            "1         0.580007                            0.842750      0.150881   \n",
            "2         0.720830                            0.320104      0.641815   \n",
            "3         0.743685                            0.321591      0.845789   \n",
            "4         0.732430                            0.587996      0.562799   \n",
            "\n",
            "   weld time  hold time  weld current  leak rate  explosive force  \\\n",
            "0   0.050026 -12.753733     -0.496401  -3.998930         1.111612   \n",
            "1   0.394470 -10.438163      0.761746  -5.040975         2.036024   \n",
            "2   0.319790 -13.492008     -4.977646  -4.275528         1.084537   \n",
            "3   0.987438 -14.259645     -6.762394  -6.714627         3.898951   \n",
            "4   0.614062 -13.744697     -3.600671  -5.858485         2.613446   \n",
            "\n",
            "       leaking  explosion  \n",
            "0  not leaking  explosion  \n",
            "1  not leaking  explosion  \n",
            "2  not leaking  explosion  \n",
            "3  not leaking  explosion  \n",
            "4  not leaking  explosion  \n"
          ]
        }
      ]
    },
    {
      "cell_type": "code",
      "source": [
        "X_train, X_test = train_test_split(my_dataframe, test_size=0.2, random_state=42)\n",
        "X_train, X_validation = train_test_split(X_train)\n",
        "\n",
        "X_train_labels = X_train[OUTPUT_COLUMNS].copy()\n",
        "X_train = X_train.drop(OUTPUT_COLUMNS, axis=1)\n",
        "X_train_categorical = X_train_labels[CATEGORICAL_LABELS]\n",
        "X_train_labels = X_train_labels.drop(CATEGORICAL_LABELS, axis=1)\n",
        "train_categorical_encoder = OneHotEncoder()\n",
        "X_train_categorical = train_categorical_encoder.fit_transform(X_train_categorical)\n",
        "X_train_categorical = X_train_categorical.toarray()\n",
        "\n",
        "X_test_labels = X_test[OUTPUT_COLUMNS].copy()\n",
        "X_test = X_test.drop(OUTPUT_COLUMNS, axis=1)\n",
        "X_test_categorical = X_test_labels[CATEGORICAL_LABELS]\n",
        "X_test_labels = X_test_labels.drop(CATEGORICAL_LABELS, axis=1)\n",
        "test_categorical_encoder = OneHotEncoder()\n",
        "X_test_categorical = test_categorical_encoder.fit_transform(X_test_categorical)\n",
        "X_test_categorical = X_test_categorical.toarray()\n",
        "\n",
        "X_validation_labels = X_validation[OUTPUT_COLUMNS].copy()\n",
        "X_validation = X_validation.drop(OUTPUT_COLUMNS, axis=1)\n",
        "X_validation_categorical = X_validation_labels[CATEGORICAL_LABELS]\n",
        "X_validation_labels = X_validation_labels.drop(CATEGORICAL_LABELS, axis=1)\n",
        "validation_categorical_encoder = OneHotEncoder()\n",
        "X_validation_categorical = validation_categorical_encoder.fit_transform(X_validation_categorical)\n",
        "X_validation_categorical = X_validation_categorical.toarray()\n",
        "\n",
        "scaler = StandardScaler()\n",
        "X_train = scaler.fit_transform(X_train)\n",
        "X_test = scaler.transform(X_test)\n",
        "X_validation = scaler.transform(X_validation)\n",
        "\n",
        "print(X_train_categorical[:10])\n",
        "print(train_categorical_encoder.categories_)"
      ],
      "metadata": {
        "colab": {
          "base_uri": "https://localhost:8080/"
        },
        "id": "cQnKJ1Wmjjpw",
        "outputId": "66f6bc3d-77e8-4f51-c87d-ec554f330db0"
      },
      "execution_count": null,
      "outputs": [
        {
          "output_type": "stream",
          "name": "stdout",
          "text": [
            "[[0. 1. 1. 0.]\n",
            " [0. 1. 1. 0.]\n",
            " [0. 1. 1. 0.]\n",
            " [0. 1. 1. 0.]\n",
            " [0. 1. 1. 0.]\n",
            " [0. 1. 1. 0.]\n",
            " [0. 1. 1. 0.]\n",
            " [0. 1. 1. 0.]\n",
            " [0. 1. 1. 0.]\n",
            " [0. 1. 1. 0.]]\n",
            "[array(['leaking', 'not leaking'], dtype=object), array(['explosion', 'no explosion'], dtype=object)]\n"
          ]
        }
      ]
    },
    {
      "cell_type": "code",
      "source": [
        "y_train_regression = X_train_labels\n",
        "y_train_classification = X_train_categorical\n",
        "y_test_regression = X_test_labels\n",
        "y_test_classification = X_test_categorical\n",
        "y_validation_regression = X_validation_labels\n",
        "y_validation_classification = X_validation_categorical\n",
        "\n",
        "y_train = y_train_regression\n",
        "y_test = y_test_regression\n",
        "y_validation = y_validation_regression"
      ],
      "metadata": {
        "id": "DFfdsft6wdgc"
      },
      "execution_count": null,
      "outputs": []
    },
    {
      "cell_type": "code",
      "source": [
        "import tensorflow as tf\n",
        "from tensorflow import keras"
      ],
      "metadata": {
        "id": "ZFoXFuPYjo52"
      },
      "execution_count": null,
      "outputs": []
    },
    {
      "cell_type": "code",
      "source": [
        "INPUT_WIDTH = len(INPUT_COLUMNS)\n",
        "OUTPUT_WIDTH = len(OUTPUT_COLUMNS)\n",
        "numerical_output_width = y_train.shape[1]\n",
        "categorical_output_width = y_train_classification.shape[1]"
      ],
      "metadata": {
        "id": "MC66uiMZjq12"
      },
      "execution_count": null,
      "outputs": []
    },
    {
      "cell_type": "code",
      "source": [
        "model = keras.models.Sequential()\n",
        "model.add(keras.layers.InputLayer(input_shape=(INPUT_WIDTH,)))\n",
        "model.add(keras.layers.Dense(INPUT_WIDTH * 10, activation=\"relu\"))\n",
        "model.add(keras.layers.Dense(INPUT_WIDTH * 5, activation=\"relu\"))\n",
        "model.add(keras.layers.Dense(INPUT_WIDTH * 1, activation=\"relu\"))\n",
        "#model.add(keras.layers.Dense(numerical_output_width, activation=\"softmax\"))\n",
        "model.add(keras.layers.Dense(numerical_output_width))\n",
        "#model.compile(loss=\"sparse_categorical_crossentropy\", optimizer=\"sgd\", metrics=[\"accuracy\"])\n",
        "model.compile(loss=\"mse\", optimizer=\"adam\", metrics=[\"mse\"])\n",
        "history = model.fit(X_train,\n",
        "    y_train,\n",
        "    epochs=30,\n",
        "    validation_data=(X_validation, y_validation))\n",
        "mse_test = model.evaluate(X_test, y_test)"
      ],
      "metadata": {
        "colab": {
          "base_uri": "https://localhost:8080/"
        },
        "id": "Bm4pZYpSjv8V",
        "outputId": "88f28c90-9383-4acc-f6df-161f0744d28d"
      },
      "execution_count": null,
      "outputs": [
        {
          "output_type": "stream",
          "name": "stderr",
          "text": [
            "/usr/local/lib/python3.11/dist-packages/keras/src/layers/core/input_layer.py:27: UserWarning: Argument `input_shape` is deprecated. Use `shape` instead.\n",
            "  warnings.warn(\n"
          ]
        },
        {
          "output_type": "stream",
          "name": "stdout",
          "text": [
            "Epoch 1/30\n",
            "\u001b[1m188/188\u001b[0m \u001b[32m━━━━━━━━━━━━━━━━━━━━\u001b[0m\u001b[37m\u001b[0m \u001b[1m2s\u001b[0m 4ms/step - loss: 8.7162 - mse: 8.7162 - val_loss: 0.4412 - val_mse: 0.4412\n",
            "Epoch 2/30\n",
            "\u001b[1m188/188\u001b[0m \u001b[32m━━━━━━━━━━━━━━━━━━━━\u001b[0m\u001b[37m\u001b[0m \u001b[1m1s\u001b[0m 3ms/step - loss: 0.3412 - mse: 0.3412 - val_loss: 0.1639 - val_mse: 0.1639\n",
            "Epoch 3/30\n",
            "\u001b[1m188/188\u001b[0m \u001b[32m━━━━━━━━━━━━━━━━━━━━\u001b[0m\u001b[37m\u001b[0m \u001b[1m1s\u001b[0m 3ms/step - loss: 0.1271 - mse: 0.1271 - val_loss: 0.0445 - val_mse: 0.0445\n",
            "Epoch 4/30\n",
            "\u001b[1m188/188\u001b[0m \u001b[32m━━━━━━━━━━━━━━━━━━━━\u001b[0m\u001b[37m\u001b[0m \u001b[1m1s\u001b[0m 3ms/step - loss: 0.0333 - mse: 0.0333 - val_loss: 0.0118 - val_mse: 0.0118\n",
            "Epoch 5/30\n",
            "\u001b[1m188/188\u001b[0m \u001b[32m━━━━━━━━━━━━━━━━━━━━\u001b[0m\u001b[37m\u001b[0m \u001b[1m1s\u001b[0m 3ms/step - loss: 0.0097 - mse: 0.0097 - val_loss: 0.0064 - val_mse: 0.0064\n",
            "Epoch 6/30\n",
            "\u001b[1m188/188\u001b[0m \u001b[32m━━━━━━━━━━━━━━━━━━━━\u001b[0m\u001b[37m\u001b[0m \u001b[1m1s\u001b[0m 3ms/step - loss: 0.0058 - mse: 0.0058 - val_loss: 0.0045 - val_mse: 0.0045\n",
            "Epoch 7/30\n",
            "\u001b[1m188/188\u001b[0m \u001b[32m━━━━━━━━━━━━━━━━━━━━\u001b[0m\u001b[37m\u001b[0m \u001b[1m1s\u001b[0m 4ms/step - loss: 0.0040 - mse: 0.0040 - val_loss: 0.0033 - val_mse: 0.0033\n",
            "Epoch 8/30\n",
            "\u001b[1m188/188\u001b[0m \u001b[32m━━━━━━━━━━━━━━━━━━━━\u001b[0m\u001b[37m\u001b[0m \u001b[1m1s\u001b[0m 5ms/step - loss: 0.0033 - mse: 0.0033 - val_loss: 0.0027 - val_mse: 0.0027\n",
            "Epoch 9/30\n",
            "\u001b[1m188/188\u001b[0m \u001b[32m━━━━━━━━━━━━━━━━━━━━\u001b[0m\u001b[37m\u001b[0m \u001b[1m1s\u001b[0m 3ms/step - loss: 0.0026 - mse: 0.0026 - val_loss: 0.0024 - val_mse: 0.0024\n",
            "Epoch 10/30\n",
            "\u001b[1m188/188\u001b[0m \u001b[32m━━━━━━━━━━━━━━━━━━━━\u001b[0m\u001b[37m\u001b[0m \u001b[1m1s\u001b[0m 3ms/step - loss: 0.0023 - mse: 0.0023 - val_loss: 0.0018 - val_mse: 0.0018\n",
            "Epoch 11/30\n",
            "\u001b[1m188/188\u001b[0m \u001b[32m━━━━━━━━━━━━━━━━━━━━\u001b[0m\u001b[37m\u001b[0m \u001b[1m1s\u001b[0m 3ms/step - loss: 0.0017 - mse: 0.0017 - val_loss: 0.0015 - val_mse: 0.0015\n",
            "Epoch 12/30\n",
            "\u001b[1m188/188\u001b[0m \u001b[32m━━━━━━━━━━━━━━━━━━━━\u001b[0m\u001b[37m\u001b[0m \u001b[1m1s\u001b[0m 3ms/step - loss: 0.0015 - mse: 0.0015 - val_loss: 0.0016 - val_mse: 0.0016\n",
            "Epoch 13/30\n",
            "\u001b[1m188/188\u001b[0m \u001b[32m━━━━━━━━━━━━━━━━━━━━\u001b[0m\u001b[37m\u001b[0m \u001b[1m1s\u001b[0m 3ms/step - loss: 0.0014 - mse: 0.0014 - val_loss: 0.0014 - val_mse: 0.0014\n",
            "Epoch 14/30\n",
            "\u001b[1m188/188\u001b[0m \u001b[32m━━━━━━━━━━━━━━━━━━━━\u001b[0m\u001b[37m\u001b[0m \u001b[1m1s\u001b[0m 3ms/step - loss: 0.0012 - mse: 0.0012 - val_loss: 0.0010 - val_mse: 0.0010\n",
            "Epoch 15/30\n",
            "\u001b[1m188/188\u001b[0m \u001b[32m━━━━━━━━━━━━━━━━━━━━\u001b[0m\u001b[37m\u001b[0m \u001b[1m1s\u001b[0m 3ms/step - loss: 0.0010 - mse: 0.0010 - val_loss: 9.7662e-04 - val_mse: 9.7662e-04\n",
            "Epoch 16/30\n",
            "\u001b[1m188/188\u001b[0m \u001b[32m━━━━━━━━━━━━━━━━━━━━\u001b[0m\u001b[37m\u001b[0m \u001b[1m1s\u001b[0m 3ms/step - loss: 9.1275e-04 - mse: 9.1275e-04 - val_loss: 8.2010e-04 - val_mse: 8.2010e-04\n",
            "Epoch 17/30\n",
            "\u001b[1m188/188\u001b[0m \u001b[32m━━━━━━━━━━━━━━━━━━━━\u001b[0m\u001b[37m\u001b[0m \u001b[1m1s\u001b[0m 3ms/step - loss: 8.1144e-04 - mse: 8.1144e-04 - val_loss: 7.3764e-04 - val_mse: 7.3764e-04\n",
            "Epoch 18/30\n",
            "\u001b[1m188/188\u001b[0m \u001b[32m━━━━━━━━━━━━━━━━━━━━\u001b[0m\u001b[37m\u001b[0m \u001b[1m1s\u001b[0m 3ms/step - loss: 7.1656e-04 - mse: 7.1656e-04 - val_loss: 6.0465e-04 - val_mse: 6.0465e-04\n",
            "Epoch 19/30\n",
            "\u001b[1m188/188\u001b[0m \u001b[32m━━━━━━━━━━━━━━━━━━━━\u001b[0m\u001b[37m\u001b[0m \u001b[1m1s\u001b[0m 3ms/step - loss: 6.6938e-04 - mse: 6.6938e-04 - val_loss: 6.7358e-04 - val_mse: 6.7358e-04\n",
            "Epoch 20/30\n",
            "\u001b[1m188/188\u001b[0m \u001b[32m━━━━━━━━━━━━━━━━━━━━\u001b[0m\u001b[37m\u001b[0m \u001b[1m1s\u001b[0m 3ms/step - loss: 5.7755e-04 - mse: 5.7755e-04 - val_loss: 5.1045e-04 - val_mse: 5.1045e-04\n",
            "Epoch 21/30\n",
            "\u001b[1m188/188\u001b[0m \u001b[32m━━━━━━━━━━━━━━━━━━━━\u001b[0m\u001b[37m\u001b[0m \u001b[1m1s\u001b[0m 3ms/step - loss: 4.8149e-04 - mse: 4.8149e-04 - val_loss: 5.9480e-04 - val_mse: 5.9480e-04\n",
            "Epoch 22/30\n",
            "\u001b[1m188/188\u001b[0m \u001b[32m━━━━━━━━━━━━━━━━━━━━\u001b[0m\u001b[37m\u001b[0m \u001b[1m1s\u001b[0m 3ms/step - loss: 4.7395e-04 - mse: 4.7395e-04 - val_loss: 4.7817e-04 - val_mse: 4.7817e-04\n",
            "Epoch 23/30\n",
            "\u001b[1m188/188\u001b[0m \u001b[32m━━━━━━━━━━━━━━━━━━━━\u001b[0m\u001b[37m\u001b[0m \u001b[1m1s\u001b[0m 3ms/step - loss: 3.9565e-04 - mse: 3.9565e-04 - val_loss: 5.8639e-04 - val_mse: 5.8639e-04\n",
            "Epoch 24/30\n",
            "\u001b[1m188/188\u001b[0m \u001b[32m━━━━━━━━━━━━━━━━━━━━\u001b[0m\u001b[37m\u001b[0m \u001b[1m1s\u001b[0m 3ms/step - loss: 3.9924e-04 - mse: 3.9924e-04 - val_loss: 3.6401e-04 - val_mse: 3.6401e-04\n",
            "Epoch 25/30\n",
            "\u001b[1m188/188\u001b[0m \u001b[32m━━━━━━━━━━━━━━━━━━━━\u001b[0m\u001b[37m\u001b[0m \u001b[1m1s\u001b[0m 4ms/step - loss: 3.4494e-04 - mse: 3.4494e-04 - val_loss: 3.0869e-04 - val_mse: 3.0869e-04\n",
            "Epoch 26/30\n",
            "\u001b[1m188/188\u001b[0m \u001b[32m━━━━━━━━━━━━━━━━━━━━\u001b[0m\u001b[37m\u001b[0m \u001b[1m1s\u001b[0m 5ms/step - loss: 3.2097e-04 - mse: 3.2097e-04 - val_loss: 3.1655e-04 - val_mse: 3.1655e-04\n",
            "Epoch 27/30\n",
            "\u001b[1m188/188\u001b[0m \u001b[32m━━━━━━━━━━━━━━━━━━━━\u001b[0m\u001b[37m\u001b[0m \u001b[1m1s\u001b[0m 3ms/step - loss: 2.8577e-04 - mse: 2.8577e-04 - val_loss: 3.2031e-04 - val_mse: 3.2031e-04\n",
            "Epoch 28/30\n",
            "\u001b[1m188/188\u001b[0m \u001b[32m━━━━━━━━━━━━━━━━━━━━\u001b[0m\u001b[37m\u001b[0m \u001b[1m1s\u001b[0m 3ms/step - loss: 2.6489e-04 - mse: 2.6489e-04 - val_loss: 2.1697e-04 - val_mse: 2.1697e-04\n",
            "Epoch 29/30\n",
            "\u001b[1m188/188\u001b[0m \u001b[32m━━━━━━━━━━━━━━━━━━━━\u001b[0m\u001b[37m\u001b[0m \u001b[1m1s\u001b[0m 3ms/step - loss: 2.6479e-04 - mse: 2.6479e-04 - val_loss: 3.1563e-04 - val_mse: 3.1563e-04\n",
            "Epoch 30/30\n",
            "\u001b[1m188/188\u001b[0m \u001b[32m━━━━━━━━━━━━━━━━━━━━\u001b[0m\u001b[37m\u001b[0m \u001b[1m1s\u001b[0m 3ms/step - loss: 2.6850e-04 - mse: 2.6850e-04 - val_loss: 1.8470e-04 - val_mse: 1.8470e-04\n",
            "\u001b[1m63/63\u001b[0m \u001b[32m━━━━━━━━━━━━━━━━━━━━\u001b[0m\u001b[37m\u001b[0m \u001b[1m0s\u001b[0m 2ms/step - loss: 1.6992e-04 - mse: 1.6992e-04\n"
          ]
        }
      ]
    },
    {
      "cell_type": "code",
      "source": [
        "pd.DataFrame(history.history).plot(figsize=(8, 5))\n",
        "plt.grid(True)\n",
        "plt.gca().set_ylim(0, 1)\n",
        "plt.show()"
      ],
      "metadata": {
        "colab": {
          "base_uri": "https://localhost:8080/",
          "height": 451
        },
        "id": "a_lhOlBodc4_",
        "outputId": "0ed9c6ca-30d2-480a-8760-9545eb56c23a"
      },
      "execution_count": null,
      "outputs": [
        {
          "output_type": "display_data",
          "data": {
            "text/plain": [
              "<Figure size 800x500 with 1 Axes>"
            ],
            "image/png": "[encoded data removed]"
          },
          "metadata": {}
        }
      ]
    },
    {
      "cell_type": "code",
      "source": [
        "y_prediction = model.predict(X_test)\n",
        "print(y_prediction[:10])\n",
        "\n",
        "model_filename = \"my_model.h5\"\n",
        "print(\"Saving \" + model_filename)\n",
        "#model.save(model_filename)"
      ],
      "metadata": {
        "colab": {
          "base_uri": "https://localhost:8080/"
        },
        "id": "ih4CcA9gw4Tv",
        "outputId": "7cd45ce1-8d84-40a3-9033-53498d2480de"
      },
      "execution_count": null,
      "outputs": [
        {
          "output_type": "stream",
          "name": "stdout",
          "text": [
            "\u001b[1m63/63\u001b[0m \u001b[32m━━━━━━━━━━━━━━━━━━━━\u001b[0m\u001b[37m\u001b[0m \u001b[1m0s\u001b[0m 2ms/step\n",
            "[[-5.240033    3.2094018 ]\n",
            " [-5.037623    3.182618  ]\n",
            " [-5.0091963  -0.32120112]\n",
            " [-5.649169    4.23313   ]\n",
            " [-1.568627    1.8239771 ]\n",
            " [-6.1607513   1.5178729 ]\n",
            " [-2.208122    2.4504426 ]\n",
            " [-1.6856936   2.819743  ]\n",
            " [-7.5525126   3.8042152 ]\n",
            " [-1.8172711   0.5070565 ]]\n",
            "Saving my_model.h5\n"
          ]
        }
      ]
    },
    {
      "cell_type": "code",
      "source": [
        "def mean_squared_error(y_true, y_predicted):\n",
        "    cost = np.sum((y_true - y_predicted) ** 2) / len(y_true)\n",
        "    return cost\n",
        "\n",
        "def gradient_descent(\n",
        "    x,\n",
        "    y,\n",
        "    model,\n",
        "    iterations=1000,\n",
        "    learning_rate=0.0001,\n",
        "    stopping_threshold=1E-6):\n",
        "    # Initialize weight, bias, learning rate, iterations\n",
        "    current_weight = 0.1\n",
        "    current_bias = 0.01\n",
        "    n = float(len(x))\n",
        "    current_x = x\n",
        "\n",
        "    costs = []\n",
        "    weights = []\n",
        "    previous_cost = None\n",
        "\n",
        "    # Estimate optimal parameters\n",
        "    for i in range(iterations):\n",
        "        current_x = current_weight * x + current_bias\n",
        "        #TODO: Scaling\n",
        "        y_predicted = model.predict(current_x)\n",
        "        current_cost = mean_squared_error(y, y_predicted)\n",
        "        if previous_cost and abs(previous_cost - current_cost) <= stopping_threshold:\n",
        "            break\n",
        "        previous_cost = current_cost\n",
        "        costs.append(current_cost)\n",
        "        weights.append(current_weight)\n",
        "        # Calculate the gradients\n",
        "        weight_derivative = -(2 / n) * sum(x * (y - y_predicted))\n",
        "        bias_derivative = -(2 / n) * sum(y - y_predicted)\n",
        "        #Update weights and bias\n",
        "        current_weight = current_weight - (learning_rate * weight_derivative)\n",
        "        current_bias = current_bias - (learning_rate * bias_derivative)\n",
        "        if not i % 100:\n",
        "            print(f\"Iteration {i + 1}: Cost {current_cost}, Weight \\\n",
        "                {current_weight}, Bias {current_bias}\")\n",
        "    #Visualize weights and costs per iteration\n",
        "    plt.figure(figsize=(8, 6))\n",
        "    plt.plot(weights, costs)\n",
        "    plt.scatter(weights, costs, marker='0', color='red')\n",
        "    plt.title(\"Cost vs. Weights\")\n",
        "    plt.ylabel(\"Cost\")\n",
        "    plt.xlabel(\"Weight\")\n",
        "    plt.show()\n",
        "\n",
        "    return current_x"
      ],
      "metadata": {
        "id": "C1ANlxJMw9oB"
      },
      "execution_count": null,
      "outputs": []
    },
    {
      "cell_type": "code",
      "source": [
        "#TODO: Fix function call\n",
        "#result = gradient_descent(X_test[0], np.zeros_like(y_test.to_numpy()[0]), model)\n",
        "#print(result)"
      ],
      "metadata": {
        "id": "0uGGf70OxBct",
        "colab": {
          "base_uri": "https://localhost:8080/",
          "height": 669
        },
        "outputId": "ed1b1b7c-7173-4283-fde7-0e076f93acf3"
      },
      "execution_count": null,
      "outputs": [
        {
          "output_type": "error",
          "ename": "ValueError",
          "evalue": "Exception encountered when calling Sequential.call().\n\n\u001b[1mCannot take the length of shape with unknown rank.\u001b[0m\n\nArguments received by Sequential.call():\n  • inputs=tf.Tensor(shape=<unknown>, dtype=float32)\n  • training=False\n  • mask=None",
          "traceback": [
            "\u001b[0;31m---------------------------------------------------------------------------\u001b[0m",
            "\u001b[0;31mValueError\u001b[0m                                Traceback (most recent call last)",
            "\u001b[0;32m<ipython-input-22-f5c77d1c8e92>\u001b[0m in \u001b[0;36m<cell line: 0>\u001b[0;34m()\u001b[0m\n\u001b[0;32m----> 1\u001b[0;31m \u001b[0mresult\u001b[0m \u001b[0;34m=\u001b[0m \u001b[0mgradient_descent\u001b[0m\u001b[0;34m(\u001b[0m\u001b[0mX_test\u001b[0m\u001b[0;34m[\u001b[0m\u001b[0;36m0\u001b[0m\u001b[0;34m]\u001b[0m\u001b[0;34m,\u001b[0m \u001b[0mnp\u001b[0m\u001b[0;34m.\u001b[0m\u001b[0mzeros_like\u001b[0m\u001b[0;34m(\u001b[0m\u001b[0my_test\u001b[0m\u001b[0;34m.\u001b[0m\u001b[0mto_numpy\u001b[0m\u001b[0;34m(\u001b[0m\u001b[0;34m)\u001b[0m\u001b[0;34m[\u001b[0m\u001b[0;36m0\u001b[0m\u001b[0;34m]\u001b[0m\u001b[0;34m)\u001b[0m\u001b[0;34m,\u001b[0m \u001b[0mmodel\u001b[0m\u001b[0;34m)\u001b[0m\u001b[0;34m\u001b[0m\u001b[0;34m\u001b[0m\u001b[0m\n\u001b[0m\u001b[1;32m      2\u001b[0m \u001b[0mprint\u001b[0m\u001b[0;34m(\u001b[0m\u001b[0mresult\u001b[0m\u001b[0;34m)\u001b[0m\u001b[0;34m\u001b[0m\u001b[0;34m\u001b[0m\u001b[0m\n",
            "\u001b[0;32m<ipython-input-15-c4fe5a32c2d1>\u001b[0m in \u001b[0;36mgradient_descent\u001b[0;34m(x, y, model, iterations, learning_rate, stopping_threshold)\u001b[0m\n\u001b[1;32m     23\u001b[0m     \u001b[0;32mfor\u001b[0m \u001b[0mi\u001b[0m \u001b[0;32min\u001b[0m \u001b[0mrange\u001b[0m\u001b[0;34m(\u001b[0m\u001b[0miterations\u001b[0m\u001b[0;34m)\u001b[0m\u001b[0;34m:\u001b[0m\u001b[0;34m\u001b[0m\u001b[0;34m\u001b[0m\u001b[0m\n\u001b[1;32m     24\u001b[0m         \u001b[0mcurrent_x\u001b[0m \u001b[0;34m=\u001b[0m \u001b[0mcurrent_weight\u001b[0m \u001b[0;34m*\u001b[0m \u001b[0mx\u001b[0m \u001b[0;34m+\u001b[0m \u001b[0mcurrent_bias\u001b[0m\u001b[0;34m\u001b[0m\u001b[0;34m\u001b[0m\u001b[0m\n\u001b[0;32m---> 25\u001b[0;31m         \u001b[0my_predicted\u001b[0m \u001b[0;34m=\u001b[0m \u001b[0mmodel\u001b[0m\u001b[0;34m.\u001b[0m\u001b[0mpredict\u001b[0m\u001b[0;34m(\u001b[0m\u001b[0mcurrent_x\u001b[0m\u001b[0;34m)\u001b[0m\u001b[0;34m\u001b[0m\u001b[0;34m\u001b[0m\u001b[0m\n\u001b[0m\u001b[1;32m     26\u001b[0m         \u001b[0mcurrent_cost\u001b[0m \u001b[0;34m=\u001b[0m \u001b[0mmean_squared_error\u001b[0m\u001b[0;34m(\u001b[0m\u001b[0my\u001b[0m\u001b[0;34m,\u001b[0m \u001b[0my_predicted\u001b[0m\u001b[0;34m)\u001b[0m\u001b[0;34m\u001b[0m\u001b[0;34m\u001b[0m\u001b[0m\n\u001b[1;32m     27\u001b[0m         \u001b[0;32mif\u001b[0m \u001b[0mprevious_cost\u001b[0m \u001b[0;32mand\u001b[0m \u001b[0mabs\u001b[0m\u001b[0;34m(\u001b[0m\u001b[0mprevious_cost\u001b[0m \u001b[0;34m-\u001b[0m \u001b[0mcurrent_cost\u001b[0m\u001b[0;34m)\u001b[0m \u001b[0;34m<=\u001b[0m \u001b[0mstopping_threshold\u001b[0m\u001b[0;34m:\u001b[0m\u001b[0;34m\u001b[0m\u001b[0;34m\u001b[0m\u001b[0m\n",
            "\u001b[0;32m/usr/local/lib/python3.11/dist-packages/keras/src/utils/traceback_utils.py\u001b[0m in \u001b[0;36merror_handler\u001b[0;34m(*args, **kwargs)\u001b[0m\n\u001b[1;32m    120\u001b[0m             \u001b[0;31m# To get the full stack trace, call:\u001b[0m\u001b[0;34m\u001b[0m\u001b[0;34m\u001b[0m\u001b[0m\n\u001b[1;32m    121\u001b[0m             \u001b[0;31m# `keras.config.disable_traceback_filtering()`\u001b[0m\u001b[0;34m\u001b[0m\u001b[0;34m\u001b[0m\u001b[0m\n\u001b[0;32m--> 122\u001b[0;31m             \u001b[0;32mraise\u001b[0m \u001b[0me\u001b[0m\u001b[0;34m.\u001b[0m\u001b[0mwith_traceback\u001b[0m\u001b[0;34m(\u001b[0m\u001b[0mfiltered_tb\u001b[0m\u001b[0;34m)\u001b[0m \u001b[0;32mfrom\u001b[0m \u001b[0;32mNone\u001b[0m\u001b[0;34m\u001b[0m\u001b[0;34m\u001b[0m\u001b[0m\n\u001b[0m\u001b[1;32m    123\u001b[0m         \u001b[0;32mfinally\u001b[0m\u001b[0;34m:\u001b[0m\u001b[0;34m\u001b[0m\u001b[0;34m\u001b[0m\u001b[0m\n\u001b[1;32m    124\u001b[0m             \u001b[0;32mdel\u001b[0m \u001b[0mfiltered_tb\u001b[0m\u001b[0;34m\u001b[0m\u001b[0;34m\u001b[0m\u001b[0m\n",
            "\u001b[0;32m/usr/local/lib/python3.11/dist-packages/keras/src/utils/traceback_utils.py\u001b[0m in \u001b[0;36merror_handler\u001b[0;34m(*args, **kwargs)\u001b[0m\n\u001b[1;32m    122\u001b[0m             \u001b[0;32mraise\u001b[0m \u001b[0me\u001b[0m\u001b[0;34m.\u001b[0m\u001b[0mwith_traceback\u001b[0m\u001b[0;34m(\u001b[0m\u001b[0mfiltered_tb\u001b[0m\u001b[0;34m)\u001b[0m \u001b[0;32mfrom\u001b[0m \u001b[0;32mNone\u001b[0m\u001b[0;34m\u001b[0m\u001b[0;34m\u001b[0m\u001b[0m\n\u001b[1;32m    123\u001b[0m         \u001b[0;32mfinally\u001b[0m\u001b[0;34m:\u001b[0m\u001b[0;34m\u001b[0m\u001b[0;34m\u001b[0m\u001b[0m\n\u001b[0;32m--> 124\u001b[0;31m             \u001b[0;32mdel\u001b[0m \u001b[0mfiltered_tb\u001b[0m\u001b[0;34m\u001b[0m\u001b[0;34m\u001b[0m\u001b[0m\n\u001b[0m\u001b[1;32m    125\u001b[0m \u001b[0;34m\u001b[0m\u001b[0m\n\u001b[1;32m    126\u001b[0m     \u001b[0;32mreturn\u001b[0m \u001b[0merror_handler\u001b[0m\u001b[0;34m\u001b[0m\u001b[0;34m\u001b[0m\u001b[0m\n",
            "\u001b[0;31mValueError\u001b[0m: Exception encountered when calling Sequential.call().\n\n\u001b[1mCannot take the length of shape with unknown rank.\u001b[0m\n\nArguments received by Sequential.call():\n  • inputs=tf.Tensor(shape=<unknown>, dtype=float32)\n  • training=False\n  • mask=None"
          ]
        }
      ]
    }
  ]
}